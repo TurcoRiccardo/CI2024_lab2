{
 "cells": [
  {
   "cell_type": "markdown",
   "metadata": {
    "vscode": {
     "languageId": "plaintext"
    }
   },
   "source": [
    "Copyright **`(c)`** 2024 Giovanni Squillero `<giovanni.squillero@polito.it>`  \n",
    "[`https://github.com/squillero/computational-intelligence`](https://github.com/squillero/computational-intelligence)  \n",
    "Free under certain conditions — see the [`license`](https://github.com/squillero/computational-intelligence/blob/master/LICENSE.md) for details.  "
   ]
  },
  {
   "cell_type": "code",
   "execution_count": 213,
   "metadata": {},
   "outputs": [],
   "source": [
    "import logging\n",
    "from itertools import combinations\n",
    "import pandas as pd\n",
    "import numpy as np\n",
    "import geopy.distance\n",
    "import networkx as nx\n",
    "from icecream import ic\n",
    "from tqdm.auto import tqdm\n",
    "from matplotlib import pyplot as plt\n",
    "from itertools import accumulate\n",
    "from dataclasses import dataclass\n",
    "\n",
    "#logging.basicConfig(level=logging.DEBUG)"
   ]
  },
  {
   "cell_type": "markdown",
   "metadata": {},
   "source": [
    "## Lab2 - TSP\n",
    "\n",
    "https://www.wolframcloud.com/obj/giovanni.squillero/Published/Lab2-tsp.nb"
   ]
  },
  {
   "cell_type": "code",
   "execution_count": 214,
   "metadata": {},
   "outputs": [
    {
     "data": {
      "text/html": [
       "<div>\n",
       "<style scoped>\n",
       "    .dataframe tbody tr th:only-of-type {\n",
       "        vertical-align: middle;\n",
       "    }\n",
       "\n",
       "    .dataframe tbody tr th {\n",
       "        vertical-align: top;\n",
       "    }\n",
       "\n",
       "    .dataframe thead th {\n",
       "        text-align: right;\n",
       "    }\n",
       "</style>\n",
       "<table border=\"1\" class=\"dataframe\">\n",
       "  <thead>\n",
       "    <tr style=\"text-align: right;\">\n",
       "      <th></th>\n",
       "      <th>name</th>\n",
       "      <th>lat</th>\n",
       "      <th>lon</th>\n",
       "    </tr>\n",
       "  </thead>\n",
       "  <tbody>\n",
       "    <tr>\n",
       "      <th>0</th>\n",
       "      <td>Ancona</td>\n",
       "      <td>43.60</td>\n",
       "      <td>13.50</td>\n",
       "    </tr>\n",
       "    <tr>\n",
       "      <th>1</th>\n",
       "      <td>Andria</td>\n",
       "      <td>41.23</td>\n",
       "      <td>16.29</td>\n",
       "    </tr>\n",
       "    <tr>\n",
       "      <th>2</th>\n",
       "      <td>Bari</td>\n",
       "      <td>41.12</td>\n",
       "      <td>16.87</td>\n",
       "    </tr>\n",
       "    <tr>\n",
       "      <th>3</th>\n",
       "      <td>Bergamo</td>\n",
       "      <td>45.70</td>\n",
       "      <td>9.67</td>\n",
       "    </tr>\n",
       "    <tr>\n",
       "      <th>4</th>\n",
       "      <td>Bologna</td>\n",
       "      <td>44.50</td>\n",
       "      <td>11.34</td>\n",
       "    </tr>\n",
       "    <tr>\n",
       "      <th>5</th>\n",
       "      <td>Bolzano</td>\n",
       "      <td>46.50</td>\n",
       "      <td>11.35</td>\n",
       "    </tr>\n",
       "    <tr>\n",
       "      <th>6</th>\n",
       "      <td>Brescia</td>\n",
       "      <td>45.55</td>\n",
       "      <td>10.22</td>\n",
       "    </tr>\n",
       "    <tr>\n",
       "      <th>7</th>\n",
       "      <td>Cagliari</td>\n",
       "      <td>39.22</td>\n",
       "      <td>9.10</td>\n",
       "    </tr>\n",
       "    <tr>\n",
       "      <th>8</th>\n",
       "      <td>Catania</td>\n",
       "      <td>37.50</td>\n",
       "      <td>15.08</td>\n",
       "    </tr>\n",
       "    <tr>\n",
       "      <th>9</th>\n",
       "      <td>Ferrara</td>\n",
       "      <td>44.84</td>\n",
       "      <td>11.61</td>\n",
       "    </tr>\n",
       "  </tbody>\n",
       "</table>\n",
       "</div>"
      ],
      "text/plain": [
       "       name    lat    lon\n",
       "0    Ancona  43.60  13.50\n",
       "1    Andria  41.23  16.29\n",
       "2      Bari  41.12  16.87\n",
       "3   Bergamo  45.70   9.67\n",
       "4   Bologna  44.50  11.34\n",
       "5   Bolzano  46.50  11.35\n",
       "6   Brescia  45.55  10.22\n",
       "7  Cagliari  39.22   9.10\n",
       "8   Catania  37.50  15.08\n",
       "9   Ferrara  44.84  11.61"
      ]
     },
     "execution_count": 214,
     "metadata": {},
     "output_type": "execute_result"
    }
   ],
   "source": [
    "CITIES = pd.read_csv('cities/italy.csv', header=None, names=['name', 'lat', 'lon'])\n",
    "#CITIES = pd.read_csv('cities/vanuatu.csv', header=None, names=['name', 'lat', 'lon'])\n",
    "#CITIES = pd.read_csv('cities/russia.csv', header=None, names=['name', 'lat', 'lon'])\n",
    "#CITIES = pd.read_csv('cities/us.csv', header=None, names=['name', 'lat', 'lon'])\n",
    "#CITIES = pd.read_csv('cities/china.csv', header=None, names=['name', 'lat', 'lon'])\n",
    "CITIES.head(10)"
   ]
  },
  {
   "cell_type": "code",
   "execution_count": 215,
   "metadata": {},
   "outputs": [],
   "source": [
    "DIST_MATRIX = np.zeros((len(CITIES), len(CITIES)))\n",
    "for c1, c2 in combinations(CITIES.itertuples(), 2):\n",
    "    DIST_MATRIX[c1.Index, c2.Index] = DIST_MATRIX[c2.Index, c1.Index] = geopy.distance.geodesic(\n",
    "        (c1.lat, c1.lon), (c2.lat, c2.lon)\n",
    "    ).km"
   ]
  },
  {
   "cell_type": "code",
   "execution_count": 216,
   "metadata": {},
   "outputs": [],
   "source": [
    "def tsp_cost(tsp):\n",
    "    assert tsp[0] == tsp[-1]\n",
    "    assert set(tsp) == set(range(len(CITIES)))\n",
    "    tot_cost = 0\n",
    "    for c1, c2 in zip(tsp, tsp[1:]):\n",
    "        tot_cost += DIST_MATRIX[c1, c2]\n",
    "    return tot_cost"
   ]
  },
  {
   "cell_type": "markdown",
   "metadata": {},
   "source": [
    "## First Greedy Algorithm\n",
    "\n",
    "Professor's solution, start from the first city and go to the nearest one, iterate until we visit all the cities. Then we close the cycle by returning to the first city."
   ]
  },
  {
   "cell_type": "code",
   "execution_count": 217,
   "metadata": {},
   "outputs": [
    {
     "data": {
      "text/plain": [
       "'result: Found a path of 46 steps, total length 4436.03km'"
      ]
     },
     "execution_count": 217,
     "metadata": {},
     "output_type": "execute_result"
    }
   ],
   "source": [
    "visited = np.full(len(CITIES), False)\n",
    "dist = DIST_MATRIX.copy()\n",
    "city = 0\n",
    "visited[city] = True\n",
    "tsp = list()\n",
    "tsp.append(int(city))\n",
    "while not np.all(visited):\n",
    "    dist[:, city] = np.inf\n",
    "    closest = np.argmin(dist[city])\n",
    "    #logging.debug(f\"step: {CITIES.at[city,'name']} -> {CITIES.at[closest,'name']} ({DIST_MATRIX[city,closest]:.2f}km)\")\n",
    "    visited[closest] = True\n",
    "    city = closest\n",
    "    tsp.append(int(city))\n",
    "#logging.debug(f\"step: {CITIES.at[tsp[-1],'name']} -> {CITIES.at[tsp[0],'name']} ({DIST_MATRIX[tsp[-1],tsp[0]]:.2f}km)\")\n",
    "tsp.append(tsp[0])\n",
    "f\"result: Found a path of {len(tsp)-1} steps, total length {tsp_cost(tsp):.2f}km\""
   ]
  },
  {
   "cell_type": "markdown",
   "metadata": {},
   "source": [
    "## Second Greedy Algorithm\n",
    "\n",
    "Professor's solution,"
   ]
  },
  {
   "cell_type": "code",
   "execution_count": 218,
   "metadata": {},
   "outputs": [],
   "source": [
    "def cyclic(edges):\n",
    "    G = nx.Graps()\n",
    "    edges = [list(e) for e, _ in edges]\n",
    "    G.add_edge_from(edges)\n",
    "    try:\n",
    "        nx.find_cycle(G)\n",
    "        return True\n",
    "    except:\n",
    "        return False"
   ]
  },
  {
   "cell_type": "code",
   "execution_count": 219,
   "metadata": {},
   "outputs": [],
   "source": [
    "segments = [({c1, c2}, float(DIST_MATRIX[c1, c2])) for c1, c2 in combinations(range(len(CITIES)), 2)] #[({c1, c2}, len)]\n",
    "visited = set()\n",
    "edges = set()\n",
    "\n",
    "shortest = next(_ for _ in sorted(segments, key=lambda e: e[1]))\n",
    "visited |= shortest[0]\n",
    "#edges |= {tuple(shortest[0])}\n",
    "#segments = [s for s in segments if not cyclic(edges | {tuple(s[0])})]\n"
   ]
  },
  {
   "cell_type": "markdown",
   "metadata": {},
   "source": [
    "## HC\n",
    "\n",
    "This solutions is not good both in terms of number of steps and cost of the solution, using insert_mutation (minimize changes in the order) improves performance slightly compared to using swap_mutation"
   ]
  },
  {
   "cell_type": "code",
   "execution_count": 220,
   "metadata": {},
   "outputs": [],
   "source": [
    "def swap_mutation(tsp: list):\n",
    "    new_tsp = tsp.copy()\n",
    "    pos1 = np.random.randint(0, len(CITIES))\n",
    "    pos2 = np.random.randint(0, len(CITIES))\n",
    "    while pos2 == pos1:\n",
    "        pos2 = np.random.randint(0, len(CITIES))\n",
    "    new_tsp[pos1] = tsp[pos2]\n",
    "    new_tsp[pos2] = tsp[pos1]\n",
    "    return new_tsp\n",
    "\n",
    "def insert_mutation(tsp: list):\n",
    "    new_tsp = tsp.copy()\n",
    "    pos1 = np.random.randint(0, len(CITIES))\n",
    "    pos2 = np.random.randint(0, len(CITIES))\n",
    "    while pos2 == pos1:\n",
    "        pos2 = np.random.randint(0, len(CITIES))\n",
    "    if pos1 > pos2:\n",
    "        temp = pos1\n",
    "        pos1 = pos2\n",
    "        pos2 = temp\n",
    "    x = pos2\n",
    "    while pos1 != pos2:\n",
    "        pos1 += 1\n",
    "        new_tsp[pos1] = tsp[x]\n",
    "        x = pos1\n",
    "    return new_tsp\n",
    "\n",
    "def fitness(tsp: list):\n",
    "    f_tsp = tsp.copy()\n",
    "    f_tsp.append(tsp[0])\n",
    "    return -float(tsp_cost(f_tsp))"
   ]
  },
  {
   "cell_type": "code",
   "execution_count": 221,
   "metadata": {},
   "outputs": [
    {
     "data": {
      "application/vnd.jupyter.widget-view+json": {
       "model_id": "6681d3736c63429792a901a945b67173",
       "version_major": 2,
       "version_minor": 0
      },
      "text/plain": [
       "  0%|          | 0/10000 [00:00<?, ?it/s]"
      ]
     },
     "metadata": {},
     "output_type": "display_data"
    },
    {
     "data": {
      "text/plain": [
       "'result: Found a path of 10000 steps, total length 5273.05km'"
      ]
     },
     "execution_count": 221,
     "metadata": {},
     "output_type": "execute_result"
    },
    {
     "data": {
      "image/png": "[encoded data removed]",
      "text/plain": [
       "<Figure size 700x400 with 1 Axes>"
      ]
     },
     "metadata": {},
     "output_type": "display_data"
    }
   ],
   "source": [
    "#generate a solution that does not return to the initial city\n",
    "tsp = list()\n",
    "for i in range(0, len(CITIES)):\n",
    "    tsp.append(int(i))\n",
    "#HC\n",
    "f_tsp = fitness(tsp)\n",
    "history = [fitness(tsp)]\n",
    "for steps in tqdm(range(10000)):\n",
    "    new_tsp = insert_mutation(tsp)\n",
    "    f = fitness(new_tsp)\n",
    "    history.append(f)\n",
    "    if f > f_tsp:\n",
    "        tsp = new_tsp\n",
    "        f_tsp = fitness(tsp)\n",
    "tsp.append(tsp[0])\n",
    "plt.figure(figsize=(7, 4))\n",
    "plt.plot(range(len(history)), list(accumulate(history, max)), color=\"red\")\n",
    "_ = plt.scatter(range(len(history)), history, marker=\".\")\n",
    "f\"result: Found a path of {steps+1} steps, total length {tsp_cost(tsp):.2f}km\""
   ]
  },
  {
   "cell_type": "markdown",
   "metadata": {},
   "source": [
    "## Simulated Annealing"
   ]
  },
  {
   "cell_type": "code",
   "execution_count": 222,
   "metadata": {},
   "outputs": [
    {
     "data": {
      "text/plain": [
       "'result: Found a path of 10000 steps, total length 5592.13km'"
      ]
     },
     "execution_count": 222,
     "metadata": {},
     "output_type": "execute_result"
    },
    {
     "data": {
      "image/png": "[encoded data removed]",
      "text/plain": [
       "<Figure size 700x400 with 1 Axes>"
      ]
     },
     "metadata": {},
     "output_type": "display_data"
    }
   ],
   "source": [
    "temp=300\n",
    "cooling_rate=0.999\n",
    "#generate a solution that does not return to the initial city\n",
    "tsp = list()\n",
    "for i in range(0, len(CITIES)):\n",
    "    tsp.append(int(i))\n",
    "f_tsp = fitness(tsp)\n",
    "history = [fitness(tsp)]\n",
    "for steps in range(10000):\n",
    "    new_tsp = insert_mutation(tsp)\n",
    "    f = fitness(new_tsp)\n",
    "    history.append(f)\n",
    "    delta_fitness = f - f_tsp\n",
    "    # Acceptance criterion: accept if the new solution has better fitness, or probabilistically if worse\n",
    "    if delta_fitness > 0 or np.random.randint(0, 1) < np.exp(delta_fitness / temp):\n",
    "        tsp = new_tsp\n",
    "        f_tsp = f\n",
    "    temp *= cooling_rate\n",
    "    if temp < 1e-5:\n",
    "        break\n",
    "tsp.append(tsp[0])\n",
    "plt.figure(figsize=(7, 4))\n",
    "plt.plot(range(len(history)), list(accumulate(history, max)), color=\"red\")\n",
    "_ = plt.scatter(range(len(history)), history, marker=\".\")\n",
    "f\"result: Found a path of {steps+1} steps, total length {tsp_cost(tsp):.2f}km\"\n"
   ]
  },
  {
   "cell_type": "markdown",
   "metadata": {},
   "source": [
    "## EA\n",
    "\n",
    "EA with cycle crossover and insert mutation with an HYPERMODERN model"
   ]
  },
  {
   "cell_type": "code",
   "execution_count": 223,
   "metadata": {},
   "outputs": [
    {
     "data": {
      "application/vnd.jupyter.widget-view+json": {
       "model_id": "8412a10a05e14ffda83d0b022fabc97e",
       "version_major": 2,
       "version_minor": 0
      },
      "text/plain": [
       "  0%|          | 0/1000 [00:00<?, ?it/s]"
      ]
     },
     "metadata": {},
     "output_type": "display_data"
    },
    {
     "data": {
      "text/plain": [
       "'result: Found a path of 1000 steps, total length 5561.04km'"
      ]
     },
     "execution_count": 223,
     "metadata": {},
     "output_type": "execute_result"
    }
   ],
   "source": [
    "@dataclass\n",
    "class Individual:\n",
    "    genome: np.ndarray\n",
    "    fitness: float = None\n",
    "\n",
    "def fitnessEA(individual: Individual):\n",
    "    f_tsp = individual.genome.copy()\n",
    "    f_tsp.append(individual.genome[0])\n",
    "    return -float(tsp_cost(f_tsp))\n",
    "\n",
    "def parent_selection(population):\n",
    "    candidates = sorted(np.random.choice(population, 2), key=lambda e: e.fitness, reverse = True)\n",
    "    return candidates[0]\n",
    "\n",
    "def xover(p1: Individual, p2: Individual):\n",
    "    sol = [-1 for _ in range(len(CITIES))]\n",
    "    #cycle crossover\n",
    "    pos1 = np.random.randint(0, len(CITIES))\n",
    "    pos2 = np.random.randint(0, len(CITIES))\n",
    "    while pos2 == pos1:\n",
    "        pos2 = np.random.randint(0, len(CITIES))\n",
    "    if pos1 > pos2:\n",
    "        temp = pos1\n",
    "        pos1 = pos2\n",
    "        pos2 = temp\n",
    "    mancanti = p2.genome.copy()\n",
    "    for x in range(pos1, pos2):\n",
    "        sol[x] = p1.genome[x]\n",
    "        mancanti.remove(sol[x])\n",
    "    for x in range(len(CITIES)):\n",
    "        if sol[x] == -1:\n",
    "            sol[x] = mancanti.pop(-1)\n",
    "    return Individual(sol)\n",
    "\n",
    "def mutation(p: Individual):\n",
    "    #insert_mutation\n",
    "    return Individual(insert_mutation(p.genome))\n",
    "\n",
    "POPULATION_SIZE = 10\n",
    "OFFSPRING_SIZE = 4\n",
    "MAX_GENERATIONS = 1000\n",
    "\n",
    "#genero la popolazione iniziale\n",
    "i = list()\n",
    "for x in range(len(CITIES)):\n",
    "    i.append(x)\n",
    "population = [Individual(i) for _ in range(POPULATION_SIZE)]\n",
    "for i in population:\n",
    "    i.fitness = fitnessEA(i)\n",
    "population.sort(key=lambda i: i.fitness, reverse = True)\n",
    "#HYPERMODERN\n",
    "for g in tqdm(range(MAX_GENERATIONS)):\n",
    "    #genero gli offspring\n",
    "    offspring = []\n",
    "    for _ in range(OFFSPRING_SIZE):\n",
    "        if np.random.random() < 0.3:\n",
    "            #mutation\n",
    "            p = parent_selection(population)\n",
    "            o = mutation(p)\n",
    "        else:\n",
    "            #crossover\n",
    "            i1 = parent_selection(population)\n",
    "            i2 = parent_selection(population)\n",
    "            o = xover(i1, i2)\n",
    "        offspring.append(o)\n",
    "    #valuto il genome calcolando fitness\n",
    "    for i in offspring:\n",
    "        i.fitness = fitnessEA(i)\n",
    "    #reinserisco gli offspring nella popolazione e tengo solo i primi POPULATION_SIZE individui\n",
    "    population.extend(offspring)\n",
    "    population.sort(key=lambda i: i.fitness, reverse = True)\n",
    "    population = population[:POPULATION_SIZE]\n",
    "f\"result: Found a path of {g+1} steps, total length {-population[0].fitness:.2f}km\""
   ]
  },
  {
   "cell_type": "markdown",
   "metadata": {},
   "source": [
    "### sources\n",
    "- prof example\n",
    "- past exercises\n",
    "- slides"
   ]
  }
 ],
 "metadata": {
  "kernelspec": {
   "display_name": "CI2024",
   "language": "python",
   "name": "python3"
  },
  "language_info": {
   "codemirror_mode": {
    "name": "ipython",
    "version": 3
   },
   "file_extension": ".py",
   "mimetype": "text/x-python",
   "name": "python",
   "nbconvert_exporter": "python",
   "pygments_lexer": "ipython3",
   "version": "3.10.4"
  }
 },
 "nbformat": 4,
 "nbformat_minor": 2
}
